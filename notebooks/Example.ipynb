{
 "cells": [
  {
   "cell_type": "code",
   "execution_count": 1,
   "metadata": {},
   "outputs": [],
   "source": [
    "import ipyvuetify as v\n",
    "from traitlets import Unicode\n",
    "from ipygoldenlayout import GoldenLayout"
   ]
  },
  {
   "cell_type": "code",
   "execution_count": 2,
   "metadata": {},
   "outputs": [],
   "source": [
    "gl = GoldenLayout()"
   ]
  },
  {
   "cell_type": "code",
   "execution_count": 3,
   "metadata": {},
   "outputs": [],
   "source": [
    "class TestGL(v.VuetifyTemplate):\n",
    "    template = Unicode(\"\"\"\n",
    "    <golden-layout style=\"height: 200px\">\n",
    "      <gl-row>\n",
    "        <gl-component title=\"component1\">\n",
    "          <h1>Component 1</h1>\n",
    "        </gl-component>\n",
    "        <gl-stack>\n",
    "          <gl-component title=\"component2\">\n",
    "            <h1>Component 2</h1>\n",
    "          </gl-component>\n",
    "          <gl-component title=\"component3\">\n",
    "            <h1>Component 3</h1>\n",
    "          </gl-component>\n",
    "        </gl-stack>\n",
    "      </gl-row>\n",
    "    </golden-layout>\n",
    "    \"\"\").tag(sync=True)"
   ]
  },
  {
   "cell_type": "code",
   "execution_count": 4,
   "metadata": {},
   "outputs": [
    {
     "data": {
      "application/vnd.jupyter.widget-view+json": {
       "model_id": "59bfa78a55cb4b8db41e1e0d3e78a7d7",
       "version_major": 2,
       "version_minor": 0
      },
      "text/plain": [
       "TestGL()"
      ]
     },
     "metadata": {},
     "output_type": "display_data"
    }
   ],
   "source": [
    "TestGL()"
   ]
  },
  {
   "cell_type": "code",
   "execution_count": null,
   "metadata": {},
   "outputs": [],
   "source": []
  }
 ],
 "metadata": {
  "kernelspec": {
   "display_name": "Python 3",
   "language": "python",
   "name": "python3"
  },
  "language_info": {
   "codemirror_mode": {
    "name": "ipython",
    "version": 3
   },
   "file_extension": ".py",
   "mimetype": "text/x-python",
   "name": "python",
   "nbconvert_exporter": "python",
   "pygments_lexer": "ipython3",
   "version": "3.7.5"
  }
 },
 "nbformat": 4,
 "nbformat_minor": 2
}
